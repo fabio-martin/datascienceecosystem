{
 "cells": [
  {
   "cell_type": "markdown",
   "id": "787c7edf-0c52-4ad6-8f94-3a00df6ee314",
   "metadata": {
    "tags": []
   },
   "source": [
    "# Data Science Tools and Ecosystem"
   ]
  },
  {
   "cell_type": "markdown",
   "id": "65daecb6-1a85-4f63-8288-bd10ebf2dfda",
   "metadata": {},
   "source": [
    "In this notebook, Data Science Tools and Ecosystem are summarized."
   ]
  },
  {
   "cell_type": "markdown",
   "id": "e6921d63-5217-47dd-9aa8-2f679a5c0bc1",
   "metadata": {},
   "source": [
    "**Objectives:**\n",
    "- List popular languages for Data Science\n",
    "- List Libraries used in data science\n",
    "- Identify the criteria and roles for determining the language to learn.\n",
    "- List the global communities for connecting with other users.\n",
    "- Describe how to use the notebooks in JupyterLab\n",
    "\n"
   ]
  },
  {
   "cell_type": "markdown",
   "id": "e9ca7f44-e428-4ceb-a653-3371ff33f9a8",
   "metadata": {},
   "source": [
    "Some of the popular languages that Data Scientists use are:\n",
    "1. Python\n",
    "2. R\n",
    "3. SQL\n",
    "4. Scala"
   ]
  },
  {
   "cell_type": "markdown",
   "id": "0244b874-d350-429f-8680-e7eec88d398b",
   "metadata": {},
   "source": [
    "Some of the commonly used libraries used by Data Scientists include:\n",
    "1. Pandas\n",
    "2. Numpy\n",
    "3. SciPy\n",
    "4. Matplotlib"
   ]
  },
  {
   "cell_type": "markdown",
   "id": "328edbd1-d588-418d-a49d-e3c06c36bc4e",
   "metadata": {},
   "source": [
    "|Data Science Tools|\n",
    "|---|\n",
    "|Weka|\n",
    "|TensorFlow|\n",
    "|MongoDB|"
   ]
  },
  {
   "cell_type": "markdown",
   "id": "84b2f313-4e60-4c1b-b318-0d0e1bb48bec",
   "metadata": {},
   "source": [
    "### Below are a few examples of evaluating arithmetic expressions in Python\n"
   ]
  },
  {
   "cell_type": "code",
   "execution_count": 6,
   "id": "2e5f969e-de16-46a4-91c8-954e69b641b0",
   "metadata": {
    "tags": []
   },
   "outputs": [
    {
     "data": {
      "text/plain": [
       "17"
      ]
     },
     "execution_count": 6,
     "metadata": {},
     "output_type": "execute_result"
    }
   ],
   "source": [
    "# This a simple arithmetic expression to mutiply then add integers\n",
    "(3*4)+5"
   ]
  },
  {
   "cell_type": "code",
   "execution_count": 8,
   "id": "f3c0b460-a6bd-4c4b-97fd-97cab5159c30",
   "metadata": {
    "tags": []
   },
   "outputs": [
    {
     "data": {
      "text/plain": [
       "3.3333333333333335"
      ]
     },
     "execution_count": 8,
     "metadata": {},
     "output_type": "execute_result"
    }
   ],
   "source": [
    "# This will convert 200 minutes to hours by diving by 60\n",
    "200 / 60"
   ]
  },
  {
   "cell_type": "markdown",
   "id": "f2cf4ef9-26ca-4928-b61b-0fb66fd7d6e0",
   "metadata": {},
   "source": [
    "## Author \n",
    "Fabio Martin "
   ]
  }
 ],
 "metadata": {
  "kernelspec": {
   "display_name": "Python",
   "language": "python",
   "name": "conda-env-python-py"
  },
  "language_info": {
   "codemirror_mode": {
    "name": "ipython",
    "version": 3
   },
   "file_extension": ".py",
   "mimetype": "text/x-python",
   "name": "python",
   "nbconvert_exporter": "python",
   "pygments_lexer": "ipython3",
   "version": "3.7.12"
  }
 },
 "nbformat": 4,
 "nbformat_minor": 5
}
